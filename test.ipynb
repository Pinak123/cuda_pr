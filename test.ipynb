{
 "cells": [
  {
   "cell_type": "markdown",
   "id": "441071d6",
   "metadata": {},
   "source": [
    "# Testinng cuda in pytorch"
   ]
  },
  {
   "cell_type": "markdown",
   "id": "f66df548",
   "metadata": {},
   "source": []
  }
 ],
 "metadata": {
  "language_info": {
   "name": "python"
  }
 },
 "nbformat": 4,
 "nbformat_minor": 5
}
